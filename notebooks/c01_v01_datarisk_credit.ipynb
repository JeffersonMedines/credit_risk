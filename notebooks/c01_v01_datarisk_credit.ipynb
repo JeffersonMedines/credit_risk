{
 "cells": [
  {
   "cell_type": "markdown",
   "id": "0538236e",
   "metadata": {},
   "source": [
    "# Solution Planning - IOT\n",
    "\n",
    "### 1.0 Input\n",
    "    1. Problema de Negócio:\n",
    "        - Classificar quais pedidos de crédito serão inadimplentes e quais serão honrados.\n",
    "    2. Conjunto de Dados:\n",
    "        - Clientes que solicitaram crédito e as suas features nas colunas. A granularidade dos dados é 1 cliente para cada linha do dataset.\n",
    "        \n",
    "### 2.0 Output\n",
    "    1. Uma nova coluna no dataset com a classificação de inadimplência do cliente.\n",
    "    2. Construção de uma API para fazer o deploy do modelo em produção.\n",
    "    3. A nova coluna será gerada ao clicar em um botão dentro da planilha do Excel, que irá selecionar o dataset, transformá-lo em um arquivo json e fazer uma request na API, a API irá devolver a classificação para o conjunto de dados enviado, e essa classificação irá compor a nova coluna.\n",
    "    \n",
    "### 3.0 Tasks\n",
    "    1. Entendimento do problema de negócio.\n",
    "    2. Descrição do dados.\n",
    "    3. Construir o mindmap de hipóteses.\n",
    "    4. Criar as hipóteses e realizar o feature engineering.\n",
    "    5. Responder as hipóteses de negócio e realizar a EDA.\n",
    "    6. Prepração dos dados.\n",
    "    7. Seleção de features.\n",
    "    8. Aplicação dos modelos de ML.\n",
    "    9. Hyperparameter fine tuning.\n",
    "    10. Tradução e interpretação do erro para negócios.\n",
    "    11. Construir a classe credit.\n",
    "    12. Construir a API.\n",
    "    13. Subir o modelo e a API na cloud.\n",
    "    14. Construir o script do Excel para fazer a quest na API."
   ]
  },
  {
   "cell_type": "markdown",
   "id": "3562f31b",
   "metadata": {},
   "source": [
    "# 0.0 IMPORTS"
   ]
  },
  {
   "cell_type": "code",
   "execution_count": 88,
   "id": "46389c2a",
   "metadata": {
    "ExecuteTime": {
     "end_time": "2023-02-15T20:11:11.349074Z",
     "start_time": "2023-02-15T20:11:11.235317Z"
    }
   },
   "outputs": [],
   "source": [
    "import pandas as pd\n",
    "import numpy as np\n",
    "import seaborn as sns\n",
    "\n",
    "import random\n",
    "\n",
    "from sklearn import metrics as m\n",
    "from sklearn import model_selection as ms\n",
    "\n",
    "from sklearn.linear_model import LogisticRegression\n",
    "from sklearn.ensemble import RandomForestClassifier\n",
    "from sklearn.tree import DecisionTreeClassifier\n",
    "from xgboost import XGBClassifier"
   ]
  },
  {
   "cell_type": "markdown",
   "id": "13ae4f24",
   "metadata": {},
   "source": [
    "## 0.1 Helper Functions"
   ]
  },
  {
   "cell_type": "code",
   "execution_count": 18,
   "id": "580e67b1",
   "metadata": {
    "ExecuteTime": {
     "end_time": "2023-02-15T16:07:26.468470Z",
     "start_time": "2023-02-15T16:07:26.459492Z"
    }
   },
   "outputs": [
    {
     "name": "stdout",
     "output_type": "stream",
     "text": [
      "%pylab is deprecated, use %matplotlib inline and import the required libraries.\n",
      "Populating the interactive namespace from numpy and matplotlib\n"
     ]
    }
   ],
   "source": [
    "def jupyter_settings():\n",
    "    %matplotlib inline\n",
    "    %pylab inline\n",
    "    plt.style.use( 'bmh' )\n",
    "    plt.rcParams['figure.figsize'] = [20, 15]\n",
    "    plt.rcParams['font.size'] = 30\n",
    "    \n",
    "    pd.options.display.max_columns = None\n",
    "    pd.options.display.max_rows = None\n",
    "    pd.set_option( 'display.expand_frame_repr', False )\n",
    "    \n",
    "    sns.set()\n",
    "    \n",
    "    \n",
    "# warnings.filterwarnings( 'ignore' )\n",
    "jupyter_settings()"
   ]
  },
  {
   "cell_type": "code",
   "execution_count": null,
   "id": "b3bbd1c7",
   "metadata": {},
   "outputs": [],
   "source": []
  },
  {
   "cell_type": "markdown",
   "id": "bdd33dfd",
   "metadata": {},
   "source": [
    "## 0.2 Loading Data"
   ]
  },
  {
   "cell_type": "code",
   "execution_count": 3,
   "id": "961364c1",
   "metadata": {
    "ExecuteTime": {
     "end_time": "2023-02-15T15:56:25.642112Z",
     "start_time": "2023-02-15T15:56:25.534961Z"
    }
   },
   "outputs": [],
   "source": [
    "df_raw = pd.read_csv( '../data/treino.csv', low_memory=True )"
   ]
  },
  {
   "cell_type": "code",
   "execution_count": null,
   "id": "f0f0f473",
   "metadata": {},
   "outputs": [],
   "source": []
  },
  {
   "cell_type": "markdown",
   "id": "be7df208",
   "metadata": {},
   "source": [
    "# 1.0 DATA DESCRIPTION"
   ]
  },
  {
   "cell_type": "code",
   "execution_count": 6,
   "id": "6182528a",
   "metadata": {
    "ExecuteTime": {
     "end_time": "2023-02-15T16:01:23.258595Z",
     "start_time": "2023-02-15T16:01:23.252097Z"
    }
   },
   "outputs": [],
   "source": [
    "df1 = df_raw.copy()"
   ]
  },
  {
   "cell_type": "markdown",
   "id": "41b7fe30",
   "metadata": {},
   "source": [
    "## 1.1 Columns Description"
   ]
  },
  {
   "cell_type": "markdown",
   "id": "0698c267",
   "metadata": {},
   "source": [
    "● idade: A idade do cliente.\n",
    "\n",
    "● numero_de_dependentes: O número de pessoas dependentes do cliente.\n",
    "\n",
    "● salario_mensal: Salário mensal do cliente.\n",
    "\n",
    "● numero_emprestimos_imobiliarios: Quantidade de empréstimos imobiliários que o cliente possui em aberto.\n",
    "\n",
    "● numero_vezes_passou_90_dias: Número de vezes que o tomador passou mais de 90 dias em atraso.\n",
    "\n",
    "● util_linhas_inseguras: Quanto que o cliente está usando, relativamente ao limite dele, de linhas de crédito que não são seguradas por qualquer bem do tomador e.g: imoveis, carros etc.\n",
    "\n",
    "● vezes_passou_de_30_59_dias: Número de vezes que o cliente atrasou, entre 30 e 59 dias, o pagamento de um empréstimo.\n",
    "● razao_debito: Razão entre as dívidas e o patrimônio do tomador. razão débito = Dividas/Patrimônio\n",
    "\n",
    "● numero_linhas_crdto_aberto: Número de empréstimos em aberto pelo cliente.\n",
    "\n",
    "● numero_de_vezes_que_passou_60_89_dias: Número de vezes que o cliente atrasou, entre 60 e 89 dias, o pagamento de um empréstimo."
   ]
  },
  {
   "cell_type": "markdown",
   "id": "a71185fe",
   "metadata": {},
   "source": [
    "### 1.1.1 Raw Data Head"
   ]
  },
  {
   "cell_type": "code",
   "execution_count": 7,
   "id": "9317cdfc",
   "metadata": {
    "ExecuteTime": {
     "end_time": "2023-02-15T16:01:32.670753Z",
     "start_time": "2023-02-15T16:01:32.660098Z"
    }
   },
   "outputs": [
    {
     "data": {
      "text/html": [
       "<div>\n",
       "<style scoped>\n",
       "    .dataframe tbody tr th:only-of-type {\n",
       "        vertical-align: middle;\n",
       "    }\n",
       "\n",
       "    .dataframe tbody tr th {\n",
       "        vertical-align: top;\n",
       "    }\n",
       "\n",
       "    .dataframe thead th {\n",
       "        text-align: right;\n",
       "    }\n",
       "</style>\n",
       "<table border=\"1\" class=\"dataframe\">\n",
       "  <thead>\n",
       "    <tr style=\"text-align: right;\">\n",
       "      <th></th>\n",
       "      <th>inadimplente</th>\n",
       "      <th>util_linhas_inseguras</th>\n",
       "      <th>idade</th>\n",
       "      <th>vezes_passou_de_30_59_dias</th>\n",
       "      <th>razao_debito</th>\n",
       "      <th>salario_mensal</th>\n",
       "      <th>numero_linhas_crdto_aberto</th>\n",
       "      <th>numero_vezes_passou_90_dias</th>\n",
       "      <th>numero_emprestimos_imobiliarios</th>\n",
       "      <th>numero_de_vezes_que_passou_60_89_dias</th>\n",
       "      <th>numero_de_dependentes</th>\n",
       "    </tr>\n",
       "  </thead>\n",
       "  <tbody>\n",
       "    <tr>\n",
       "      <th>0</th>\n",
       "      <td>1</td>\n",
       "      <td>0.766127</td>\n",
       "      <td>45</td>\n",
       "      <td>2</td>\n",
       "      <td>0.802982</td>\n",
       "      <td>9120.0</td>\n",
       "      <td>13</td>\n",
       "      <td>0</td>\n",
       "      <td>6</td>\n",
       "      <td>0</td>\n",
       "      <td>2.0</td>\n",
       "    </tr>\n",
       "    <tr>\n",
       "      <th>1</th>\n",
       "      <td>0</td>\n",
       "      <td>0.957151</td>\n",
       "      <td>40</td>\n",
       "      <td>0</td>\n",
       "      <td>0.121876</td>\n",
       "      <td>2600.0</td>\n",
       "      <td>4</td>\n",
       "      <td>0</td>\n",
       "      <td>0</td>\n",
       "      <td>0</td>\n",
       "      <td>1.0</td>\n",
       "    </tr>\n",
       "    <tr>\n",
       "      <th>2</th>\n",
       "      <td>0</td>\n",
       "      <td>0.658180</td>\n",
       "      <td>38</td>\n",
       "      <td>1</td>\n",
       "      <td>0.085113</td>\n",
       "      <td>3042.0</td>\n",
       "      <td>2</td>\n",
       "      <td>1</td>\n",
       "      <td>0</td>\n",
       "      <td>0</td>\n",
       "      <td>0.0</td>\n",
       "    </tr>\n",
       "    <tr>\n",
       "      <th>3</th>\n",
       "      <td>0</td>\n",
       "      <td>0.233810</td>\n",
       "      <td>30</td>\n",
       "      <td>0</td>\n",
       "      <td>0.036050</td>\n",
       "      <td>3300.0</td>\n",
       "      <td>5</td>\n",
       "      <td>0</td>\n",
       "      <td>0</td>\n",
       "      <td>0</td>\n",
       "      <td>0.0</td>\n",
       "    </tr>\n",
       "    <tr>\n",
       "      <th>4</th>\n",
       "      <td>0</td>\n",
       "      <td>0.907239</td>\n",
       "      <td>49</td>\n",
       "      <td>1</td>\n",
       "      <td>0.024926</td>\n",
       "      <td>63588.0</td>\n",
       "      <td>7</td>\n",
       "      <td>0</td>\n",
       "      <td>1</td>\n",
       "      <td>0</td>\n",
       "      <td>0.0</td>\n",
       "    </tr>\n",
       "  </tbody>\n",
       "</table>\n",
       "</div>"
      ],
      "text/plain": [
       "   inadimplente  util_linhas_inseguras  idade  vezes_passou_de_30_59_dias  \\\n",
       "0             1               0.766127     45                           2   \n",
       "1             0               0.957151     40                           0   \n",
       "2             0               0.658180     38                           1   \n",
       "3             0               0.233810     30                           0   \n",
       "4             0               0.907239     49                           1   \n",
       "\n",
       "   razao_debito  salario_mensal  numero_linhas_crdto_aberto  \\\n",
       "0      0.802982          9120.0                          13   \n",
       "1      0.121876          2600.0                           4   \n",
       "2      0.085113          3042.0                           2   \n",
       "3      0.036050          3300.0                           5   \n",
       "4      0.024926         63588.0                           7   \n",
       "\n",
       "   numero_vezes_passou_90_dias  numero_emprestimos_imobiliarios  \\\n",
       "0                            0                                6   \n",
       "1                            0                                0   \n",
       "2                            1                                0   \n",
       "3                            0                                0   \n",
       "4                            0                                1   \n",
       "\n",
       "   numero_de_vezes_que_passou_60_89_dias  numero_de_dependentes  \n",
       "0                                      0                    2.0  \n",
       "1                                      0                    1.0  \n",
       "2                                      0                    0.0  \n",
       "3                                      0                    0.0  \n",
       "4                                      0                    0.0  "
      ]
     },
     "execution_count": 7,
     "metadata": {},
     "output_type": "execute_result"
    }
   ],
   "source": [
    "df1.head()"
   ]
  },
  {
   "cell_type": "markdown",
   "id": "4438ef9d",
   "metadata": {},
   "source": [
    "## 1.2 Data Dimensions"
   ]
  },
  {
   "cell_type": "code",
   "execution_count": 8,
   "id": "8a87f14b",
   "metadata": {
    "ExecuteTime": {
     "end_time": "2023-02-15T16:01:40.004918Z",
     "start_time": "2023-02-15T16:01:40.001343Z"
    }
   },
   "outputs": [
    {
     "name": "stdout",
     "output_type": "stream",
     "text": [
      "Number of Rows: 110000\n",
      "Number of Cols: 11\n"
     ]
    }
   ],
   "source": [
    "print( f'Number of Rows: {df1.shape[0]}' )\n",
    "print( f'Number of Cols: {df1.shape[1]}' )"
   ]
  },
  {
   "cell_type": "markdown",
   "id": "9818ecb6",
   "metadata": {},
   "source": [
    "## 1.3 Data Types"
   ]
  },
  {
   "cell_type": "code",
   "execution_count": 9,
   "id": "d8ffb025",
   "metadata": {
    "ExecuteTime": {
     "end_time": "2023-02-15T16:01:44.608273Z",
     "start_time": "2023-02-15T16:01:44.597962Z"
    }
   },
   "outputs": [
    {
     "data": {
      "text/plain": [
       "inadimplente                               int64\n",
       "util_linhas_inseguras                    float64\n",
       "idade                                      int64\n",
       "vezes_passou_de_30_59_dias                 int64\n",
       "razao_debito                             float64\n",
       "salario_mensal                           float64\n",
       "numero_linhas_crdto_aberto                 int64\n",
       "numero_vezes_passou_90_dias                int64\n",
       "numero_emprestimos_imobiliarios            int64\n",
       "numero_de_vezes_que_passou_60_89_dias      int64\n",
       "numero_de_dependentes                    float64\n",
       "dtype: object"
      ]
     },
     "execution_count": 9,
     "metadata": {},
     "output_type": "execute_result"
    }
   ],
   "source": [
    "df1.dtypes"
   ]
  },
  {
   "cell_type": "markdown",
   "id": "db2aa4d0",
   "metadata": {},
   "source": [
    "## 1.4 Check NA's"
   ]
  },
  {
   "cell_type": "code",
   "execution_count": null,
   "id": "6dcd8310",
   "metadata": {},
   "outputs": [],
   "source": [
    "df_aux = "
   ]
  },
  {
   "cell_type": "code",
   "execution_count": 118,
   "id": "304c35d0",
   "metadata": {
    "ExecuteTime": {
     "end_time": "2023-02-15T22:13:33.698911Z",
     "start_time": "2023-02-15T22:13:32.995361Z"
    }
   },
   "outputs": [
    {
     "name": "stderr",
     "output_type": "stream",
     "text": [
      "/tmp/ipykernel_358/2894614321.py:1: UserWarning: \n",
      "\n",
      "`distplot` is a deprecated function and will be removed in seaborn v0.14.0.\n",
      "\n",
      "Please adapt your code to use either `displot` (a figure-level function with\n",
      "similar flexibility) or `histplot` (an axes-level function for histograms).\n",
      "\n",
      "For a guide to updating your code to use the new functions, please see\n",
      "https://gist.github.com/mwaskom/de44147ed2974457ad6372750bbe5751\n",
      "\n",
      "  sns.distplot( df_raw.loc[df_raw['salario_mensal'] < 50000, 'salario_mensal' ] )\n"
     ]
    },
    {
     "data": {
      "text/plain": [
       "<AxesSubplot:xlabel='salario_mensal', ylabel='Density'>"
      ]
     },
     "execution_count": 118,
     "metadata": {},
     "output_type": "execute_result"
    },
    {
     "data": {
      "image/png": "[encoded data removed]",
      "text/plain": [
       "<Figure size 1440x1080 with 1 Axes>"
      ]
     },
     "metadata": {},
     "output_type": "display_data"
    }
   ],
   "source": [
    "sns.distplot( df_raw.loc[df_raw['salario_mensal'] < 50000, 'salario_mensal' ] )"
   ]
  },
  {
   "cell_type": "code",
   "execution_count": 117,
   "id": "7bc8b12a",
   "metadata": {
    "ExecuteTime": {
     "end_time": "2023-02-15T22:13:26.949015Z",
     "start_time": "2023-02-15T22:13:26.231611Z"
    }
   },
   "outputs": [
    {
     "name": "stderr",
     "output_type": "stream",
     "text": [
      "/tmp/ipykernel_358/941098501.py:1: UserWarning: \n",
      "\n",
      "`distplot` is a deprecated function and will be removed in seaborn v0.14.0.\n",
      "\n",
      "Please adapt your code to use either `displot` (a figure-level function with\n",
      "similar flexibility) or `histplot` (an axes-level function for histograms).\n",
      "\n",
      "For a guide to updating your code to use the new functions, please see\n",
      "https://gist.github.com/mwaskom/de44147ed2974457ad6372750bbe5751\n",
      "\n",
      "  sns.distplot( df_raw.loc[df_raw['numero_de_dependentes'] <= 5, 'numero_de_dependentes'] )\n"
     ]
    },
    {
     "data": {
      "text/plain": [
       "<AxesSubplot:xlabel='numero_de_dependentes', ylabel='Density'>"
      ]
     },
     "execution_count": 117,
     "metadata": {},
     "output_type": "execute_result"
    },
    {
     "data": {
      "image/png": "[encoded data removed]",
      "text/plain": [
       "<Figure size 1440x1080 with 1 Axes>"
      ]
     },
     "metadata": {},
     "output_type": "display_data"
    }
   ],
   "source": [
    "sns.distplot( df_raw.loc[df_raw['numero_de_dependentes'] <= 5, 'numero_de_dependentes'] )"
   ]
  },
  {
   "cell_type": "code",
   "execution_count": null,
   "id": "4d4a65d3",
   "metadata": {},
   "outputs": [],
   "source": []
  },
  {
   "cell_type": "code",
   "execution_count": 11,
   "id": "b473d908",
   "metadata": {
    "ExecuteTime": {
     "end_time": "2023-02-15T16:03:10.887252Z",
     "start_time": "2023-02-15T16:03:10.880330Z"
    }
   },
   "outputs": [
    {
     "data": {
      "text/plain": [
       "inadimplente                                 0\n",
       "util_linhas_inseguras                        0\n",
       "idade                                        0\n",
       "vezes_passou_de_30_59_dias                   0\n",
       "razao_debito                                 0\n",
       "salario_mensal                           21763\n",
       "numero_linhas_crdto_aberto                   0\n",
       "numero_vezes_passou_90_dias                  0\n",
       "numero_emprestimos_imobiliarios              0\n",
       "numero_de_vezes_que_passou_60_89_dias        0\n",
       "numero_de_dependentes                     2878\n",
       "dtype: int64"
      ]
     },
     "execution_count": 11,
     "metadata": {},
     "output_type": "execute_result"
    }
   ],
   "source": [
    "df1.isna().sum()"
   ]
  },
  {
   "cell_type": "markdown",
   "id": "b13e3b67",
   "metadata": {},
   "source": [
    "## 1.5 Fill NA's"
   ]
  },
  {
   "cell_type": "code",
   "execution_count": 19,
   "id": "1c35b193",
   "metadata": {
    "ExecuteTime": {
     "end_time": "2023-02-15T16:09:01.571165Z",
     "start_time": "2023-02-15T16:09:01.561321Z"
    }
   },
   "outputs": [],
   "source": [
    "df1 = df1.dropna()"
   ]
  },
  {
   "cell_type": "markdown",
   "id": "7376706e",
   "metadata": {},
   "source": [
    "## 1.6 Change Types"
   ]
  },
  {
   "cell_type": "code",
   "execution_count": 22,
   "id": "8491a216",
   "metadata": {
    "ExecuteTime": {
     "end_time": "2023-02-15T16:11:41.231660Z",
     "start_time": "2023-02-15T16:11:41.226814Z"
    }
   },
   "outputs": [],
   "source": [
    "df1['numero_de_dependentes'] = df1['numero_de_dependentes'].astype( int )"
   ]
  },
  {
   "cell_type": "markdown",
   "id": "2214b3c6",
   "metadata": {},
   "source": [
    "## 1.7 Descriptive Statistics"
   ]
  },
  {
   "cell_type": "code",
   "execution_count": 24,
   "id": "b8ca5396",
   "metadata": {
    "ExecuteTime": {
     "end_time": "2023-02-15T16:13:57.717266Z",
     "start_time": "2023-02-15T16:13:57.498508Z"
    }
   },
   "outputs": [],
   "source": [
    "# Central Tendency - Mean, Median\n",
    "ct1 = pd.DataFrame( df1.apply( np.mean ) ).T\n",
    "ct2 = pd.DataFrame( df1.apply( np.median ) ).T\n",
    "\n",
    "# Dispersion - Std, min, max, range, skewness, kurtosis\n",
    "d1 = pd.DataFrame( df1.apply( np.std ) ).T\n",
    "d2 = pd.DataFrame( df1.apply( min ) ).T\n",
    "d3 = pd.DataFrame( df1.apply( max ) ).T\n",
    "d4 = pd.DataFrame( df1.apply( lambda x: x.max() - x.min() ) ).T\n",
    "d5 = pd.DataFrame( df1.apply( lambda x: x.skew() ) ).T\n",
    "d6 = pd.DataFrame( df1.apply( lambda x: x.kurtosis() ) ).T\n",
    "\n",
    "# Concatenate\n",
    "m = pd.concat( [d2, d3, d4, ct1, ct2, d1, d5, d6] ).T.reset_index()\n",
    "m.columns = ['attributes', 'min', 'max', 'range', 'mean', 'median', 'std', 'skew', 'kurtosis']"
   ]
  },
  {
   "cell_type": "code",
   "execution_count": 25,
   "id": "dea81887",
   "metadata": {
    "ExecuteTime": {
     "end_time": "2023-02-15T16:14:02.517344Z",
     "start_time": "2023-02-15T16:14:02.504614Z"
    }
   },
   "outputs": [
    {
     "data": {
      "text/html": [
       "<div>\n",
       "<style scoped>\n",
       "    .dataframe tbody tr th:only-of-type {\n",
       "        vertical-align: middle;\n",
       "    }\n",
       "\n",
       "    .dataframe tbody tr th {\n",
       "        vertical-align: top;\n",
       "    }\n",
       "\n",
       "    .dataframe thead th {\n",
       "        text-align: right;\n",
       "    }\n",
       "</style>\n",
       "<table border=\"1\" class=\"dataframe\">\n",
       "  <thead>\n",
       "    <tr style=\"text-align: right;\">\n",
       "      <th></th>\n",
       "      <th>attributes</th>\n",
       "      <th>min</th>\n",
       "      <th>max</th>\n",
       "      <th>range</th>\n",
       "      <th>mean</th>\n",
       "      <th>median</th>\n",
       "      <th>std</th>\n",
       "      <th>skew</th>\n",
       "      <th>kurtosis</th>\n",
       "    </tr>\n",
       "  </thead>\n",
       "  <tbody>\n",
       "    <tr>\n",
       "      <th>0</th>\n",
       "      <td>inadimplente</td>\n",
       "      <td>0.0</td>\n",
       "      <td>1.0</td>\n",
       "      <td>1.0</td>\n",
       "      <td>0.068951</td>\n",
       "      <td>0.000000</td>\n",
       "      <td>0.253370</td>\n",
       "      <td>3.402583</td>\n",
       "      <td>9.577791</td>\n",
       "    </tr>\n",
       "    <tr>\n",
       "      <th>1</th>\n",
       "      <td>util_linhas_inseguras</td>\n",
       "      <td>0.0</td>\n",
       "      <td>50708.0</td>\n",
       "      <td>50708.0</td>\n",
       "      <td>5.855376</td>\n",
       "      <td>0.178883</td>\n",
       "      <td>260.697959</td>\n",
       "      <td>114.138591</td>\n",
       "      <td>18622.858549</td>\n",
       "    </tr>\n",
       "    <tr>\n",
       "      <th>2</th>\n",
       "      <td>idade</td>\n",
       "      <td>0.0</td>\n",
       "      <td>103.0</td>\n",
       "      <td>103.0</td>\n",
       "      <td>51.248320</td>\n",
       "      <td>51.000000</td>\n",
       "      <td>14.413494</td>\n",
       "      <td>0.225654</td>\n",
       "      <td>-0.475708</td>\n",
       "    </tr>\n",
       "    <tr>\n",
       "      <th>3</th>\n",
       "      <td>vezes_passou_de_30_59_dias</td>\n",
       "      <td>0.0</td>\n",
       "      <td>98.0</td>\n",
       "      <td>98.0</td>\n",
       "      <td>0.387491</td>\n",
       "      <td>0.000000</td>\n",
       "      <td>3.596237</td>\n",
       "      <td>26.050246</td>\n",
       "      <td>703.028768</td>\n",
       "    </tr>\n",
       "    <tr>\n",
       "      <th>4</th>\n",
       "      <td>razao_debito</td>\n",
       "      <td>0.0</td>\n",
       "      <td>61106.5</td>\n",
       "      <td>61106.5</td>\n",
       "      <td>26.827167</td>\n",
       "      <td>0.296660</td>\n",
       "      <td>389.680036</td>\n",
       "      <td>61.819687</td>\n",
       "      <td>7613.139273</td>\n",
       "    </tr>\n",
       "    <tr>\n",
       "      <th>5</th>\n",
       "      <td>salario_mensal</td>\n",
       "      <td>0.0</td>\n",
       "      <td>3008750.0</td>\n",
       "      <td>3008750.0</td>\n",
       "      <td>6637.411063</td>\n",
       "      <td>5400.000000</td>\n",
       "      <td>13383.875102</td>\n",
       "      <td>140.701543</td>\n",
       "      <td>29432.520949</td>\n",
       "    </tr>\n",
       "    <tr>\n",
       "      <th>6</th>\n",
       "      <td>numero_linhas_crdto_aberto</td>\n",
       "      <td>0.0</td>\n",
       "      <td>58.0</td>\n",
       "      <td>58.0</td>\n",
       "      <td>8.755352</td>\n",
       "      <td>8.000000</td>\n",
       "      <td>5.165914</td>\n",
       "      <td>1.205384</td>\n",
       "      <td>3.154251</td>\n",
       "    </tr>\n",
       "    <tr>\n",
       "      <th>7</th>\n",
       "      <td>numero_vezes_passou_90_dias</td>\n",
       "      <td>0.0</td>\n",
       "      <td>98.0</td>\n",
       "      <td>98.0</td>\n",
       "      <td>0.218593</td>\n",
       "      <td>0.000000</td>\n",
       "      <td>3.563066</td>\n",
       "      <td>26.915575</td>\n",
       "      <td>734.779313</td>\n",
       "    </tr>\n",
       "    <tr>\n",
       "      <th>8</th>\n",
       "      <td>numero_emprestimos_imobiliarios</td>\n",
       "      <td>0.0</td>\n",
       "      <td>54.0</td>\n",
       "      <td>54.0</td>\n",
       "      <td>1.055884</td>\n",
       "      <td>1.000000</td>\n",
       "      <td>1.156476</td>\n",
       "      <td>3.976981</td>\n",
       "      <td>81.274148</td>\n",
       "    </tr>\n",
       "    <tr>\n",
       "      <th>9</th>\n",
       "      <td>numero_de_vezes_que_passou_60_89_dias</td>\n",
       "      <td>0.0</td>\n",
       "      <td>98.0</td>\n",
       "      <td>98.0</td>\n",
       "      <td>0.194125</td>\n",
       "      <td>0.000000</td>\n",
       "      <td>3.547127</td>\n",
       "      <td>27.284963</td>\n",
       "      <td>748.845453</td>\n",
       "    </tr>\n",
       "    <tr>\n",
       "      <th>10</th>\n",
       "      <td>numero_de_dependentes</td>\n",
       "      <td>0.0</td>\n",
       "      <td>20.0</td>\n",
       "      <td>20.0</td>\n",
       "      <td>0.851910</td>\n",
       "      <td>0.000000</td>\n",
       "      <td>1.147773</td>\n",
       "      <td>1.433702</td>\n",
       "      <td>2.648026</td>\n",
       "    </tr>\n",
       "  </tbody>\n",
       "</table>\n",
       "</div>"
      ],
      "text/plain": [
       "                               attributes  min        max      range         mean       median           std        skew      kurtosis\n",
       "0                            inadimplente  0.0        1.0        1.0     0.068951     0.000000      0.253370    3.402583      9.577791\n",
       "1                   util_linhas_inseguras  0.0    50708.0    50708.0     5.855376     0.178883    260.697959  114.138591  18622.858549\n",
       "2                                   idade  0.0      103.0      103.0    51.248320    51.000000     14.413494    0.225654     -0.475708\n",
       "3              vezes_passou_de_30_59_dias  0.0       98.0       98.0     0.387491     0.000000      3.596237   26.050246    703.028768\n",
       "4                            razao_debito  0.0    61106.5    61106.5    26.827167     0.296660    389.680036   61.819687   7613.139273\n",
       "5                          salario_mensal  0.0  3008750.0  3008750.0  6637.411063  5400.000000  13383.875102  140.701543  29432.520949\n",
       "6              numero_linhas_crdto_aberto  0.0       58.0       58.0     8.755352     8.000000      5.165914    1.205384      3.154251\n",
       "7             numero_vezes_passou_90_dias  0.0       98.0       98.0     0.218593     0.000000      3.563066   26.915575    734.779313\n",
       "8         numero_emprestimos_imobiliarios  0.0       54.0       54.0     1.055884     1.000000      1.156476    3.976981     81.274148\n",
       "9   numero_de_vezes_que_passou_60_89_dias  0.0       98.0       98.0     0.194125     0.000000      3.547127   27.284963    748.845453\n",
       "10                  numero_de_dependentes  0.0       20.0       20.0     0.851910     0.000000      1.147773    1.433702      2.648026"
      ]
     },
     "execution_count": 25,
     "metadata": {},
     "output_type": "execute_result"
    }
   ],
   "source": [
    "m"
   ]
  },
  {
   "cell_type": "markdown",
   "id": "89653511",
   "metadata": {},
   "source": [
    "# 2.0 FEATURE ENGINEERING"
   ]
  },
  {
   "cell_type": "code",
   "execution_count": 26,
   "id": "46774d61",
   "metadata": {
    "ExecuteTime": {
     "end_time": "2023-02-15T18:58:36.529397Z",
     "start_time": "2023-02-15T18:58:36.391394Z"
    }
   },
   "outputs": [],
   "source": [
    "df2 = df1.copy()"
   ]
  },
  {
   "cell_type": "code",
   "execution_count": null,
   "id": "7ca1757d",
   "metadata": {},
   "outputs": [],
   "source": []
  },
  {
   "cell_type": "code",
   "execution_count": null,
   "id": "cb95acb0",
   "metadata": {},
   "outputs": [],
   "source": []
  },
  {
   "cell_type": "code",
   "execution_count": null,
   "id": "84e6456a",
   "metadata": {},
   "outputs": [],
   "source": []
  },
  {
   "cell_type": "code",
   "execution_count": null,
   "id": "ca6b332c",
   "metadata": {},
   "outputs": [],
   "source": []
  },
  {
   "cell_type": "code",
   "execution_count": null,
   "id": "13664bc9",
   "metadata": {},
   "outputs": [],
   "source": []
  },
  {
   "cell_type": "code",
   "execution_count": null,
   "id": "0e426c16",
   "metadata": {},
   "outputs": [],
   "source": []
  },
  {
   "cell_type": "code",
   "execution_count": null,
   "id": "881e9a8a",
   "metadata": {},
   "outputs": [],
   "source": []
  },
  {
   "cell_type": "code",
   "execution_count": null,
   "id": "a7ad1731",
   "metadata": {},
   "outputs": [],
   "source": []
  },
  {
   "cell_type": "code",
   "execution_count": null,
   "id": "b72259cc",
   "metadata": {},
   "outputs": [],
   "source": []
  },
  {
   "cell_type": "code",
   "execution_count": null,
   "id": "e402b456",
   "metadata": {},
   "outputs": [],
   "source": []
  },
  {
   "cell_type": "markdown",
   "id": "0aca701a",
   "metadata": {},
   "source": [
    "# 3.0 DATA FILTERING"
   ]
  },
  {
   "cell_type": "code",
   "execution_count": 27,
   "id": "9b4c23b8",
   "metadata": {
    "ExecuteTime": {
     "end_time": "2023-02-15T18:58:38.102757Z",
     "start_time": "2023-02-15T18:58:38.098573Z"
    }
   },
   "outputs": [],
   "source": [
    "df3 = df2.copy()"
   ]
  },
  {
   "cell_type": "code",
   "execution_count": null,
   "id": "6a9da142",
   "metadata": {},
   "outputs": [],
   "source": []
  },
  {
   "cell_type": "markdown",
   "id": "567329d2",
   "metadata": {},
   "source": [
    "# 4.0 EXPLORATORY DATA ANALYSIS"
   ]
  },
  {
   "cell_type": "code",
   "execution_count": 28,
   "id": "c751ff12",
   "metadata": {
    "ExecuteTime": {
     "end_time": "2023-02-15T18:58:38.863350Z",
     "start_time": "2023-02-15T18:58:38.848853Z"
    }
   },
   "outputs": [],
   "source": [
    "df4 = df3.copy()"
   ]
  },
  {
   "cell_type": "code",
   "execution_count": null,
   "id": "1527445b",
   "metadata": {},
   "outputs": [],
   "source": []
  },
  {
   "cell_type": "markdown",
   "id": "ad39d538",
   "metadata": {},
   "source": [
    "# 5.0 DATA PREPARATION"
   ]
  },
  {
   "cell_type": "code",
   "execution_count": 29,
   "id": "41a174ca",
   "metadata": {
    "ExecuteTime": {
     "end_time": "2023-02-15T18:58:40.027656Z",
     "start_time": "2023-02-15T18:58:40.012499Z"
    }
   },
   "outputs": [],
   "source": [
    "df5 = df4.copy()"
   ]
  },
  {
   "cell_type": "code",
   "execution_count": null,
   "id": "52eb0d78",
   "metadata": {},
   "outputs": [],
   "source": []
  },
  {
   "cell_type": "markdown",
   "id": "1689b22d",
   "metadata": {},
   "source": [
    "# 6.0 FEATURE SELECTION"
   ]
  },
  {
   "cell_type": "code",
   "execution_count": 30,
   "id": "b40b1dbf",
   "metadata": {
    "ExecuteTime": {
     "end_time": "2023-02-15T18:58:40.940088Z",
     "start_time": "2023-02-15T18:58:40.913137Z"
    }
   },
   "outputs": [],
   "source": [
    "df6 = df5.copy()"
   ]
  },
  {
   "cell_type": "code",
   "execution_count": null,
   "id": "eb294e20",
   "metadata": {},
   "outputs": [],
   "source": []
  },
  {
   "cell_type": "markdown",
   "id": "41b279db",
   "metadata": {},
   "source": [
    "# 7.0 MACHINE LEARNING MODELLING"
   ]
  },
  {
   "cell_type": "code",
   "execution_count": 31,
   "id": "7af623b6",
   "metadata": {
    "ExecuteTime": {
     "end_time": "2023-02-15T18:58:41.739595Z",
     "start_time": "2023-02-15T18:58:41.712612Z"
    }
   },
   "outputs": [],
   "source": [
    "df7 = df6.copy()"
   ]
  },
  {
   "cell_type": "code",
   "execution_count": 32,
   "id": "6d135646",
   "metadata": {
    "ExecuteTime": {
     "end_time": "2023-02-15T19:03:41.523359Z",
     "start_time": "2023-02-15T19:03:41.480139Z"
    }
   },
   "outputs": [
    {
     "data": {
      "text/html": [
       "<div>\n",
       "<style scoped>\n",
       "    .dataframe tbody tr th:only-of-type {\n",
       "        vertical-align: middle;\n",
       "    }\n",
       "\n",
       "    .dataframe tbody tr th {\n",
       "        vertical-align: top;\n",
       "    }\n",
       "\n",
       "    .dataframe thead th {\n",
       "        text-align: right;\n",
       "    }\n",
       "</style>\n",
       "<table border=\"1\" class=\"dataframe\">\n",
       "  <thead>\n",
       "    <tr style=\"text-align: right;\">\n",
       "      <th></th>\n",
       "      <th>inadimplente</th>\n",
       "      <th>util_linhas_inseguras</th>\n",
       "      <th>idade</th>\n",
       "      <th>vezes_passou_de_30_59_dias</th>\n",
       "      <th>razao_debito</th>\n",
       "      <th>salario_mensal</th>\n",
       "      <th>numero_linhas_crdto_aberto</th>\n",
       "      <th>numero_vezes_passou_90_dias</th>\n",
       "      <th>numero_emprestimos_imobiliarios</th>\n",
       "      <th>numero_de_vezes_que_passou_60_89_dias</th>\n",
       "      <th>numero_de_dependentes</th>\n",
       "    </tr>\n",
       "  </thead>\n",
       "  <tbody>\n",
       "    <tr>\n",
       "      <th>0</th>\n",
       "      <td>1</td>\n",
       "      <td>0.766127</td>\n",
       "      <td>45</td>\n",
       "      <td>2</td>\n",
       "      <td>0.802982</td>\n",
       "      <td>9120.0</td>\n",
       "      <td>13</td>\n",
       "      <td>0</td>\n",
       "      <td>6</td>\n",
       "      <td>0</td>\n",
       "      <td>2</td>\n",
       "    </tr>\n",
       "    <tr>\n",
       "      <th>1</th>\n",
       "      <td>0</td>\n",
       "      <td>0.957151</td>\n",
       "      <td>40</td>\n",
       "      <td>0</td>\n",
       "      <td>0.121876</td>\n",
       "      <td>2600.0</td>\n",
       "      <td>4</td>\n",
       "      <td>0</td>\n",
       "      <td>0</td>\n",
       "      <td>0</td>\n",
       "      <td>1</td>\n",
       "    </tr>\n",
       "    <tr>\n",
       "      <th>2</th>\n",
       "      <td>0</td>\n",
       "      <td>0.658180</td>\n",
       "      <td>38</td>\n",
       "      <td>1</td>\n",
       "      <td>0.085113</td>\n",
       "      <td>3042.0</td>\n",
       "      <td>2</td>\n",
       "      <td>1</td>\n",
       "      <td>0</td>\n",
       "      <td>0</td>\n",
       "      <td>0</td>\n",
       "    </tr>\n",
       "    <tr>\n",
       "      <th>3</th>\n",
       "      <td>0</td>\n",
       "      <td>0.233810</td>\n",
       "      <td>30</td>\n",
       "      <td>0</td>\n",
       "      <td>0.036050</td>\n",
       "      <td>3300.0</td>\n",
       "      <td>5</td>\n",
       "      <td>0</td>\n",
       "      <td>0</td>\n",
       "      <td>0</td>\n",
       "      <td>0</td>\n",
       "    </tr>\n",
       "    <tr>\n",
       "      <th>4</th>\n",
       "      <td>0</td>\n",
       "      <td>0.907239</td>\n",
       "      <td>49</td>\n",
       "      <td>1</td>\n",
       "      <td>0.024926</td>\n",
       "      <td>63588.0</td>\n",
       "      <td>7</td>\n",
       "      <td>0</td>\n",
       "      <td>1</td>\n",
       "      <td>0</td>\n",
       "      <td>0</td>\n",
       "    </tr>\n",
       "  </tbody>\n",
       "</table>\n",
       "</div>"
      ],
      "text/plain": [
       "   inadimplente  util_linhas_inseguras  idade  vezes_passou_de_30_59_dias  razao_debito  salario_mensal  numero_linhas_crdto_aberto  numero_vezes_passou_90_dias  numero_emprestimos_imobiliarios  numero_de_vezes_que_passou_60_89_dias  numero_de_dependentes\n",
       "0             1               0.766127     45                           2      0.802982          9120.0                          13                            0                                6                                      0                      2\n",
       "1             0               0.957151     40                           0      0.121876          2600.0                           4                            0                                0                                      0                      1\n",
       "2             0               0.658180     38                           1      0.085113          3042.0                           2                            1                                0                                      0                      0\n",
       "3             0               0.233810     30                           0      0.036050          3300.0                           5                            0                                0                                      0                      0\n",
       "4             0               0.907239     49                           1      0.024926         63588.0                           7                            0                                1                                      0                      0"
      ]
     },
     "execution_count": 32,
     "metadata": {},
     "output_type": "execute_result"
    }
   ],
   "source": [
    "df7.head()"
   ]
  },
  {
   "cell_type": "markdown",
   "id": "8fa6af9c",
   "metadata": {},
   "source": [
    "## 7.1 Data Split"
   ]
  },
  {
   "cell_type": "code",
   "execution_count": 60,
   "id": "9d400c12",
   "metadata": {
    "ExecuteTime": {
     "end_time": "2023-02-15T19:46:39.645044Z",
     "start_time": "2023-02-15T19:46:39.628616Z"
    }
   },
   "outputs": [],
   "source": [
    "# Split\n",
    "X = df7.drop( 'inadimplente', axis=1 )\n",
    "y = df7['inadimplente']\n",
    "x_train, x_validation, y_train, y_validation = ms.train_test_split( X, y, test_size=0.20 )"
   ]
  },
  {
   "cell_type": "code",
   "execution_count": null,
   "id": "a5e78bc6",
   "metadata": {},
   "outputs": [],
   "source": []
  },
  {
   "cell_type": "code",
   "execution_count": 49,
   "id": "667ee0c8",
   "metadata": {
    "ExecuteTime": {
     "end_time": "2023-02-15T19:18:12.852509Z",
     "start_time": "2023-02-15T19:18:12.846132Z"
    }
   },
   "outputs": [
    {
     "data": {
      "text/plain": [
       "0    82153\n",
       "1     6084\n",
       "Name: inadimplente, dtype: int64"
      ]
     },
     "execution_count": 49,
     "metadata": {},
     "output_type": "execute_result"
    }
   ],
   "source": [
    "df7['inadimplente'].value_counts(  )"
   ]
  },
  {
   "cell_type": "code",
   "execution_count": null,
   "id": "d9179cc7",
   "metadata": {},
   "outputs": [],
   "source": []
  },
  {
   "cell_type": "code",
   "execution_count": null,
   "id": "31045899",
   "metadata": {},
   "outputs": [],
   "source": []
  },
  {
   "cell_type": "markdown",
   "id": "d88a649f",
   "metadata": {},
   "source": [
    "## 7.1 Baseline"
   ]
  },
  {
   "cell_type": "code",
   "execution_count": 82,
   "id": "4ab0664c",
   "metadata": {
    "ExecuteTime": {
     "end_time": "2023-02-15T20:02:24.130138Z",
     "start_time": "2023-02-15T20:02:24.085478Z"
    }
   },
   "outputs": [
    {
     "data": {
      "text/html": [
       "<div>\n",
       "<style scoped>\n",
       "    .dataframe tbody tr th:only-of-type {\n",
       "        vertical-align: middle;\n",
       "    }\n",
       "\n",
       "    .dataframe tbody tr th {\n",
       "        vertical-align: top;\n",
       "    }\n",
       "\n",
       "    .dataframe thead th {\n",
       "        text-align: right;\n",
       "    }\n",
       "</style>\n",
       "<table border=\"1\" class=\"dataframe\">\n",
       "  <thead>\n",
       "    <tr style=\"text-align: right;\">\n",
       "      <th></th>\n",
       "      <th>Model Name</th>\n",
       "      <th>PRECISION</th>\n",
       "      <th>RECALL</th>\n",
       "      <th>F1 SCORE</th>\n",
       "    </tr>\n",
       "  </thead>\n",
       "  <tbody>\n",
       "    <tr>\n",
       "      <th>0</th>\n",
       "      <td>Baseline</td>\n",
       "      <td>0.0651</td>\n",
       "      <td>0.0639</td>\n",
       "      <td>0.0645</td>\n",
       "    </tr>\n",
       "  </tbody>\n",
       "</table>\n",
       "</div>"
      ],
      "text/plain": [
       "  Model Name  PRECISION  RECALL  F1 SCORE\n",
       "0   Baseline     0.0651  0.0639    0.0645"
      ]
     },
     "execution_count": 82,
     "metadata": {},
     "output_type": "execute_result"
    }
   ],
   "source": [
    "# Model Predict\n",
    "class_list = [0, 1]\n",
    "yhat_baseline = random.choices( class_list, weights=(93, 7), k=len(y_validation) )\n",
    "\n",
    "# Model Performance\n",
    "precision = m.precision_score( y_validation, yhat_baseline )\n",
    "recall = m.recall_score( y_validation, yhat_baseline )\n",
    "f1_score = m.f1_score( y_validation, yhat_baseline )\n",
    "\n",
    "# Performance Df\n",
    "baseline_single = pd.DataFrame( {'Model Name': 'Baseline',\n",
    "                             'PRECISION': round(precision, 4),\n",
    "                             'RECALL': round(recall, 4),\n",
    "                             'F1 SCORE': round(f1_score, 4)}, index=[0] )\n",
    "baseline_single"
   ]
  },
  {
   "cell_type": "markdown",
   "id": "ad1f0c41",
   "metadata": {},
   "source": [
    "## 7.2 Logistic Regression"
   ]
  },
  {
   "cell_type": "code",
   "execution_count": 100,
   "id": "b00ea6ab",
   "metadata": {
    "ExecuteTime": {
     "end_time": "2023-02-15T21:49:22.023744Z",
     "start_time": "2023-02-15T21:49:21.381951Z"
    }
   },
   "outputs": [
    {
     "data": {
      "text/html": [
       "<div>\n",
       "<style scoped>\n",
       "    .dataframe tbody tr th:only-of-type {\n",
       "        vertical-align: middle;\n",
       "    }\n",
       "\n",
       "    .dataframe tbody tr th {\n",
       "        vertical-align: top;\n",
       "    }\n",
       "\n",
       "    .dataframe thead th {\n",
       "        text-align: right;\n",
       "    }\n",
       "</style>\n",
       "<table border=\"1\" class=\"dataframe\">\n",
       "  <thead>\n",
       "    <tr style=\"text-align: right;\">\n",
       "      <th></th>\n",
       "      <th>Model Name</th>\n",
       "      <th>PRECISION</th>\n",
       "      <th>RECALL</th>\n",
       "      <th>F1 SCORE</th>\n",
       "    </tr>\n",
       "  </thead>\n",
       "  <tbody>\n",
       "    <tr>\n",
       "      <th>0</th>\n",
       "      <td>Logistic Regression</td>\n",
       "      <td>0.6203</td>\n",
       "      <td>0.0391</td>\n",
       "      <td>0.0736</td>\n",
       "    </tr>\n",
       "  </tbody>\n",
       "</table>\n",
       "</div>"
      ],
      "text/plain": [
       "            Model Name  PRECISION  RECALL  F1 SCORE\n",
       "0  Logistic Regression     0.6203  0.0391    0.0736"
      ]
     },
     "execution_count": 100,
     "metadata": {},
     "output_type": "execute_result"
    }
   ],
   "source": [
    "# Model Definition\n",
    "lr_model = LogisticRegression( random_state=42, solver='liblinear' )\n",
    "\n",
    "# Model Training\n",
    "lr_model.fit( x_train, y_train )\n",
    "\n",
    "# Model Predict\n",
    "yhat_lr = lr_model.predict( x_validation )\n",
    "\n",
    "# Model Performance\n",
    "precision = m.precision_score( y_validation, yhat_lr )\n",
    "recall = m.recall_score( y_validation, yhat_lr )\n",
    "f1_score = m.f1_score( y_validation, yhat_lr )\n",
    "\n",
    "# Performance Df\n",
    "lr_single = pd.DataFrame( {'Model Name': 'Logistic Regression',\n",
    "                             'PRECISION': round(precision, 4),\n",
    "                             'RECALL': round(recall, 4),\n",
    "                             'F1 SCORE': round(f1_score, 4)}, index=[0] )\n",
    "lr_single"
   ]
  },
  {
   "cell_type": "code",
   "execution_count": 81,
   "id": "4e6d24c8",
   "metadata": {
    "ExecuteTime": {
     "end_time": "2023-02-15T20:00:02.170329Z",
     "start_time": "2023-02-15T20:00:02.162346Z"
    }
   },
   "outputs": [
    {
     "data": {
      "text/html": [
       "<div>\n",
       "<style scoped>\n",
       "    .dataframe tbody tr th:only-of-type {\n",
       "        vertical-align: middle;\n",
       "    }\n",
       "\n",
       "    .dataframe tbody tr th {\n",
       "        vertical-align: top;\n",
       "    }\n",
       "\n",
       "    .dataframe thead th {\n",
       "        text-align: right;\n",
       "    }\n",
       "</style>\n",
       "<table border=\"1\" class=\"dataframe\">\n",
       "  <thead>\n",
       "    <tr style=\"text-align: right;\">\n",
       "      <th></th>\n",
       "      <th>Model Name</th>\n",
       "      <th>PRECISION</th>\n",
       "      <th>RECALL</th>\n",
       "      <th>F1_SCORE</th>\n",
       "    </tr>\n",
       "  </thead>\n",
       "  <tbody>\n",
       "    <tr>\n",
       "      <th>0</th>\n",
       "      <td>Logistic Regression</td>\n",
       "      <td>0.5606</td>\n",
       "      <td>0.0296</td>\n",
       "      <td>0.0561</td>\n",
       "    </tr>\n",
       "  </tbody>\n",
       "</table>\n",
       "</div>"
      ],
      "text/plain": [
       "            Model Name  PRECISION  RECALL  F1_SCORE\n",
       "0  Logistic Regression     0.5606  0.0296    0.0561"
      ]
     },
     "execution_count": 81,
     "metadata": {},
     "output_type": "execute_result"
    }
   ],
   "source": [
    "lr_single"
   ]
  },
  {
   "cell_type": "markdown",
   "id": "44eb6d8c",
   "metadata": {},
   "source": [
    "## 7.3 Random Forest"
   ]
  },
  {
   "cell_type": "code",
   "execution_count": 84,
   "id": "190745a5",
   "metadata": {
    "ExecuteTime": {
     "end_time": "2023-02-15T20:07:32.015365Z",
     "start_time": "2023-02-15T20:07:19.522296Z"
    }
   },
   "outputs": [
    {
     "data": {
      "text/html": [
       "<div>\n",
       "<style scoped>\n",
       "    .dataframe tbody tr th:only-of-type {\n",
       "        vertical-align: middle;\n",
       "    }\n",
       "\n",
       "    .dataframe tbody tr th {\n",
       "        vertical-align: top;\n",
       "    }\n",
       "\n",
       "    .dataframe thead th {\n",
       "        text-align: right;\n",
       "    }\n",
       "</style>\n",
       "<table border=\"1\" class=\"dataframe\">\n",
       "  <thead>\n",
       "    <tr style=\"text-align: right;\">\n",
       "      <th></th>\n",
       "      <th>Model Name</th>\n",
       "      <th>PRECISION</th>\n",
       "      <th>RECALL</th>\n",
       "      <th>F1 SCORE</th>\n",
       "    </tr>\n",
       "  </thead>\n",
       "  <tbody>\n",
       "    <tr>\n",
       "      <th>0</th>\n",
       "      <td>Random Forest</td>\n",
       "      <td>0.5679</td>\n",
       "      <td>0.1637</td>\n",
       "      <td>0.2542</td>\n",
       "    </tr>\n",
       "  </tbody>\n",
       "</table>\n",
       "</div>"
      ],
      "text/plain": [
       "      Model Name  PRECISION  RECALL  F1 SCORE\n",
       "0  Random Forest     0.5679  0.1637    0.2542"
      ]
     },
     "execution_count": 84,
     "metadata": {},
     "output_type": "execute_result"
    }
   ],
   "source": [
    "# Model Definition\n",
    "rf_model = RandomForestClassifier( random_state=42 )\n",
    "\n",
    "# Model Training\n",
    "rf_model.fit( x_train, y_train )\n",
    "\n",
    "# Model Predict\n",
    "yhat_rf = rf_model.predict( x_validation )\n",
    "\n",
    "# Model Performance\n",
    "precision = m.precision_score( y_validation, yhat_rf )\n",
    "recall = m.recall_score( y_validation, yhat_rf )\n",
    "f1_score = m.f1_score( y_validation, yhat_rf )\n",
    "\n",
    "# Performance Df\n",
    "rf_single = pd.DataFrame( {'Model Name': 'Random Forest',\n",
    "                             'PRECISION': round(precision, 4),\n",
    "                             'RECALL': round(recall, 4),\n",
    "                             'F1 SCORE': round(f1_score, 4)}, index=[0] )\n",
    "rf_single"
   ]
  },
  {
   "cell_type": "markdown",
   "id": "a8960b0d",
   "metadata": {},
   "source": [
    "## 7.4 Decision Tree"
   ]
  },
  {
   "cell_type": "code",
   "execution_count": 101,
   "id": "c9c5a9d9",
   "metadata": {
    "ExecuteTime": {
     "end_time": "2023-02-15T21:49:39.372120Z",
     "start_time": "2023-02-15T21:49:38.749161Z"
    }
   },
   "outputs": [
    {
     "data": {
      "text/html": [
       "<div>\n",
       "<style scoped>\n",
       "    .dataframe tbody tr th:only-of-type {\n",
       "        vertical-align: middle;\n",
       "    }\n",
       "\n",
       "    .dataframe tbody tr th {\n",
       "        vertical-align: top;\n",
       "    }\n",
       "\n",
       "    .dataframe thead th {\n",
       "        text-align: right;\n",
       "    }\n",
       "</style>\n",
       "<table border=\"1\" class=\"dataframe\">\n",
       "  <thead>\n",
       "    <tr style=\"text-align: right;\">\n",
       "      <th></th>\n",
       "      <th>Model Name</th>\n",
       "      <th>PRECISION</th>\n",
       "      <th>RECALL</th>\n",
       "      <th>F1 SCORE</th>\n",
       "    </tr>\n",
       "  </thead>\n",
       "  <tbody>\n",
       "    <tr>\n",
       "      <th>0</th>\n",
       "      <td>Decision Tree</td>\n",
       "      <td>0.2449</td>\n",
       "      <td>0.2668</td>\n",
       "      <td>0.2554</td>\n",
       "    </tr>\n",
       "  </tbody>\n",
       "</table>\n",
       "</div>"
      ],
      "text/plain": [
       "      Model Name  PRECISION  RECALL  F1 SCORE\n",
       "0  Decision Tree     0.2449  0.2668    0.2554"
      ]
     },
     "execution_count": 101,
     "metadata": {},
     "output_type": "execute_result"
    }
   ],
   "source": [
    "# Model Definition\n",
    "dt_model = DecisionTreeClassifier( random_state=42 )\n",
    "\n",
    "# Model Training\n",
    "dt_model.fit( x_train, y_train )\n",
    "\n",
    "# Model Predict\n",
    "yhat_dt = dt_model.predict( x_validation )\n",
    "\n",
    "# Model Performance\n",
    "precision = m.precision_score( y_validation, yhat_dt )\n",
    "recall = m.recall_score( y_validation, yhat_dt )\n",
    "f1_score = m.f1_score( y_validation, yhat_dt )\n",
    "\n",
    "# Performance Df\n",
    "dt_single = pd.DataFrame( {'Model Name': 'Decision Tree',\n",
    "                             'PRECISION': round(precision, 4),\n",
    "                             'RECALL': round(recall, 4),\n",
    "                             'F1 SCORE': round(f1_score, 4)}, index=[0] )\n",
    "dt_single"
   ]
  },
  {
   "cell_type": "markdown",
   "id": "2c77fea3",
   "metadata": {},
   "source": [
    "## 7.5 XGBoost"
   ]
  },
  {
   "cell_type": "code",
   "execution_count": 102,
   "id": "f84fe28c",
   "metadata": {
    "ExecuteTime": {
     "end_time": "2023-02-15T21:49:50.423090Z",
     "start_time": "2023-02-15T21:49:47.747666Z"
    }
   },
   "outputs": [
    {
     "data": {
      "text/html": [
       "<div>\n",
       "<style scoped>\n",
       "    .dataframe tbody tr th:only-of-type {\n",
       "        vertical-align: middle;\n",
       "    }\n",
       "\n",
       "    .dataframe tbody tr th {\n",
       "        vertical-align: top;\n",
       "    }\n",
       "\n",
       "    .dataframe thead th {\n",
       "        text-align: right;\n",
       "    }\n",
       "</style>\n",
       "<table border=\"1\" class=\"dataframe\">\n",
       "  <thead>\n",
       "    <tr style=\"text-align: right;\">\n",
       "      <th></th>\n",
       "      <th>Model Name</th>\n",
       "      <th>PRECISION</th>\n",
       "      <th>RECALL</th>\n",
       "      <th>F1 SCORE</th>\n",
       "    </tr>\n",
       "  </thead>\n",
       "  <tbody>\n",
       "    <tr>\n",
       "      <th>0</th>\n",
       "      <td>XGBoost</td>\n",
       "      <td>0.5842</td>\n",
       "      <td>0.1773</td>\n",
       "      <td>0.2721</td>\n",
       "    </tr>\n",
       "  </tbody>\n",
       "</table>\n",
       "</div>"
      ],
      "text/plain": [
       "  Model Name  PRECISION  RECALL  F1 SCORE\n",
       "0    XGBoost     0.5842  0.1773    0.2721"
      ]
     },
     "execution_count": 102,
     "metadata": {},
     "output_type": "execute_result"
    }
   ],
   "source": [
    "# Model Definition\n",
    "xgb_model = XGBClassifier( random_state=42 )\n",
    "\n",
    "# Model Training\n",
    "xgb_model.fit( x_train, y_train )\n",
    "\n",
    "# Model Predict\n",
    "yhat_xgb = xgb_model.predict( x_validation )\n",
    "\n",
    "# Model Performance\n",
    "precision = m.precision_score( y_validation, yhat_xgb )\n",
    "recall = m.recall_score( y_validation, yhat_xgb )\n",
    "f1_score = m.f1_score( y_validation, yhat_xgb )\n",
    "\n",
    "# Performance Df\n",
    "xgb_single = pd.DataFrame( {'Model Name': 'XGBoost',\n",
    "                             'PRECISION': round(precision, 4),\n",
    "                             'RECALL': round(recall, 4),\n",
    "                             'F1 SCORE': round(f1_score, 4)}, index=[0] )\n",
    "xgb_single"
   ]
  },
  {
   "cell_type": "code",
   "execution_count": 98,
   "id": "10101c17",
   "metadata": {
    "ExecuteTime": {
     "end_time": "2023-02-15T21:46:15.222097Z",
     "start_time": "2023-02-15T21:46:15.215983Z"
    }
   },
   "outputs": [
    {
     "data": {
      "text/plain": [
       "Model Name     object\n",
       "PRECISION     float64\n",
       "RECALL        float64\n",
       "F1 SCORE      float64\n",
       "dtype: object"
      ]
     },
     "execution_count": 98,
     "metadata": {},
     "output_type": "execute_result"
    }
   ],
   "source": [
    "models_result.dtypes"
   ]
  },
  {
   "cell_type": "markdown",
   "id": "d1ee19ff",
   "metadata": {},
   "source": [
    "## 7.6 Compare Model's Performance"
   ]
  },
  {
   "cell_type": "code",
   "execution_count": 99,
   "id": "732fbf1f",
   "metadata": {
    "ExecuteTime": {
     "end_time": "2023-02-15T21:47:22.919653Z",
     "start_time": "2023-02-15T21:47:22.905253Z"
    }
   },
   "outputs": [
    {
     "data": {
      "text/html": [
       "<div>\n",
       "<style scoped>\n",
       "    .dataframe tbody tr th:only-of-type {\n",
       "        vertical-align: middle;\n",
       "    }\n",
       "\n",
       "    .dataframe tbody tr th {\n",
       "        vertical-align: top;\n",
       "    }\n",
       "\n",
       "    .dataframe thead th {\n",
       "        text-align: right;\n",
       "    }\n",
       "</style>\n",
       "<table border=\"1\" class=\"dataframe\">\n",
       "  <thead>\n",
       "    <tr style=\"text-align: right;\">\n",
       "      <th></th>\n",
       "      <th>Model Name</th>\n",
       "      <th>PRECISION</th>\n",
       "      <th>RECALL</th>\n",
       "      <th>F1 SCORE</th>\n",
       "    </tr>\n",
       "  </thead>\n",
       "  <tbody>\n",
       "    <tr>\n",
       "      <th>0</th>\n",
       "      <td>Decision Tree</td>\n",
       "      <td>0.2480</td>\n",
       "      <td>0.2668</td>\n",
       "      <td>0.2570</td>\n",
       "    </tr>\n",
       "    <tr>\n",
       "      <th>0</th>\n",
       "      <td>XGBoost</td>\n",
       "      <td>0.5842</td>\n",
       "      <td>0.1773</td>\n",
       "      <td>0.2721</td>\n",
       "    </tr>\n",
       "    <tr>\n",
       "      <th>0</th>\n",
       "      <td>Random Forest</td>\n",
       "      <td>0.5679</td>\n",
       "      <td>0.1637</td>\n",
       "      <td>0.2542</td>\n",
       "    </tr>\n",
       "    <tr>\n",
       "      <th>0</th>\n",
       "      <td>Baseline</td>\n",
       "      <td>0.0651</td>\n",
       "      <td>0.0639</td>\n",
       "      <td>0.0645</td>\n",
       "    </tr>\n",
       "  </tbody>\n",
       "</table>\n",
       "</div>"
      ],
      "text/plain": [
       "      Model Name  PRECISION  RECALL  F1 SCORE\n",
       "0  Decision Tree     0.2480  0.2668    0.2570\n",
       "0        XGBoost     0.5842  0.1773    0.2721\n",
       "0  Random Forest     0.5679  0.1637    0.2542\n",
       "0       Baseline     0.0651  0.0639    0.0645"
      ]
     },
     "execution_count": 99,
     "metadata": {},
     "output_type": "execute_result"
    }
   ],
   "source": [
    "models_result = pd.concat( [baseline_single, rf_single, dt_single, xgb_single] )\n",
    "models_result.sort_values( 'RECALL', ascending=False )"
   ]
  },
  {
   "cell_type": "markdown",
   "id": "8a643d21",
   "metadata": {},
   "source": [
    "# 8.0 HYPERPARAMETER FINE TUNING"
   ]
  },
  {
   "cell_type": "code",
   "execution_count": null,
   "id": "0d18cff4",
   "metadata": {},
   "outputs": [],
   "source": []
  },
  {
   "cell_type": "code",
   "execution_count": null,
   "id": "a7e48fe2",
   "metadata": {},
   "outputs": [],
   "source": []
  },
  {
   "cell_type": "markdown",
   "id": "fa72a97b",
   "metadata": {},
   "source": [
    "# 9.0 ERROR TRANSLATION AND INTERPRETATION"
   ]
  },
  {
   "cell_type": "code",
   "execution_count": null,
   "id": "bceeece2",
   "metadata": {},
   "outputs": [],
   "source": []
  },
  {
   "cell_type": "code",
   "execution_count": null,
   "id": "5698e17e",
   "metadata": {},
   "outputs": [],
   "source": []
  },
  {
   "cell_type": "markdown",
   "id": "39633aad",
   "metadata": {},
   "source": [
    "# 10.0 DEPLOY MODEL TO PRODUCTION"
   ]
  },
  {
   "cell_type": "code",
   "execution_count": null,
   "id": "7949459b",
   "metadata": {},
   "outputs": [],
   "source": []
  },
  {
   "cell_type": "code",
   "execution_count": null,
   "id": "bea4df7c",
   "metadata": {},
   "outputs": [],
   "source": []
  },
  {
   "cell_type": "code",
   "execution_count": null,
   "id": "300abe8f",
   "metadata": {},
   "outputs": [],
   "source": []
  },
  {
   "cell_type": "code",
   "execution_count": null,
   "id": "305d11b2",
   "metadata": {},
   "outputs": [],
   "source": []
  },
  {
   "cell_type": "code",
   "execution_count": null,
   "id": "b855cbaa",
   "metadata": {},
   "outputs": [],
   "source": []
  },
  {
   "cell_type": "code",
   "execution_count": null,
   "id": "eb61ed4a",
   "metadata": {},
   "outputs": [],
   "source": []
  },
  {
   "cell_type": "code",
   "execution_count": null,
   "id": "a54ad771",
   "metadata": {},
   "outputs": [],
   "source": []
  },
  {
   "cell_type": "code",
   "execution_count": null,
   "id": "b61f440e",
   "metadata": {},
   "outputs": [],
   "source": []
  },
  {
   "cell_type": "code",
   "execution_count": null,
   "id": "5b4b7ef5",
   "metadata": {},
   "outputs": [],
   "source": []
  },
  {
   "cell_type": "code",
   "execution_count": null,
   "id": "7a5a19d1",
   "metadata": {},
   "outputs": [],
   "source": []
  },
  {
   "cell_type": "code",
   "execution_count": null,
   "id": "00acb5d4",
   "metadata": {},
   "outputs": [],
   "source": []
  },
  {
   "cell_type": "code",
   "execution_count": null,
   "id": "fd7c2efe",
   "metadata": {},
   "outputs": [],
   "source": []
  },
  {
   "cell_type": "code",
   "execution_count": null,
   "id": "d66d3553",
   "metadata": {},
   "outputs": [],
   "source": []
  },
  {
   "cell_type": "code",
   "execution_count": null,
   "id": "8549142b",
   "metadata": {},
   "outputs": [],
   "source": []
  },
  {
   "cell_type": "code",
   "execution_count": null,
   "id": "11a169df",
   "metadata": {},
   "outputs": [],
   "source": []
  },
  {
   "cell_type": "code",
   "execution_count": null,
   "id": "bc8c9c21",
   "metadata": {},
   "outputs": [],
   "source": []
  },
  {
   "cell_type": "code",
   "execution_count": null,
   "id": "c25609e3",
   "metadata": {},
   "outputs": [],
   "source": []
  },
  {
   "cell_type": "code",
   "execution_count": null,
   "id": "71849df1",
   "metadata": {},
   "outputs": [],
   "source": []
  },
  {
   "cell_type": "code",
   "execution_count": null,
   "id": "14b431c0",
   "metadata": {},
   "outputs": [],
   "source": []
  }
 ],
 "metadata": {
  "kernelspec": {
   "display_name": "datarisk_credit",
   "language": "python",
   "name": "datarisk_credit"
  },
  "language_info": {
   "codemirror_mode": {
    "name": "ipython",
    "version": 3
   },
   "file_extension": ".py",
   "mimetype": "text/x-python",
   "name": "python",
   "nbconvert_exporter": "python",
   "pygments_lexer": "ipython3",
   "version": "3.8.10"
  }
 },
 "nbformat": 4,
 "nbformat_minor": 5
}
